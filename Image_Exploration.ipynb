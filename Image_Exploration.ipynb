{
 "cells": [
  {
   "cell_type": "markdown",
   "metadata": {},
   "source": [
    "# Image Exploration\n",
    "\n",
    "### Description\n",
    "Exploring album covers and record label board pics.\n",
    "\n",
    "### Sections\n",
    "1. <a href=#data>Ingest Data</a>\n",
    "2. <a href=#wrangle>Wrangle Data</a>\n",
    "3. <a href=#eda>EDA</a>\n",
    "4. <a href=#process>Process Data</a>\n",
    "5. <a href=#export>Export Data</a>"
   ]
  },
  {
   "cell_type": "markdown",
   "metadata": {},
   "source": [
    "<a id=data></a>\n",
    "## Ingest Data"
   ]
  },
  {
   "cell_type": "code",
   "execution_count": null,
   "metadata": {},
   "outputs": [],
   "source": [
    "# Import libraries\n",
    "import requests, bs4, re, os, shutil\n",
    "import pandas as pd\n",
    "import numpy as np\n",
    "# Importing Image module from PIL package  \n",
    "from PIL import Image  \n",
    "import PIL  "
   ]
  },
  {
   "cell_type": "code",
   "execution_count": 2,
   "metadata": {},
   "outputs": [],
   "source": [
    "%load_ext autoreload\n",
    "%aimport utils\n",
    "from utils import *"
   ]
  },
  {
   "cell_type": "code",
   "execution_count": 4,
   "metadata": {},
   "outputs": [
    {
     "name": "stdout",
     "output_type": "stream",
     "text": [
      "Bad url: /frontend/images/logo.png\n",
      "Bad url: /frontend/images/divider.jpg\n",
      "Bad url: /frontend/images/divider.jpg\n",
      "Bad url: /frontend/images/divider.jpg\n",
      "Bad url: /frontend/images/divider.jpg\n",
      "Bad url: /frontend/images/divider.jpg\n",
      "Bad url: /frontend/images/divider.jpg\n",
      "Bad url: /frontend/images/divider.jpg\n",
      "Bad url: /frontend/images/divider.jpg\n",
      "Bad url: /frontend/images/divider.jpg\n",
      "Bad url: /frontend/images/divider.jpg\n",
      "Bad url: /frontend/images/divider.jpg\n",
      "Bad url: /frontend/images/divider.jpg\n",
      "Bad url: /frontend/images/divider.jpg\n",
      "Bad url: /frontend/images/divider.jpg\n",
      "Bad url: /frontend/images/divider.jpg\n",
      "Bad url: /frontend/images/divider.jpg\n",
      "Bad url: /frontend/images/divider.jpg\n",
      "Bad url: /frontend/images/divider.jpg\n",
      "Bad url: /frontend/images/divider.jpg\n",
      "Bad url: /frontend/images/divider.jpg\n",
      "Bad url: /frontend/images/divider.jpg\n",
      "Bad url: /frontend/images/divider.jpg\n",
      "Bad url: /frontend/images/divider.jpg\n",
      "Bad url: /images/leadership/moneill_square.jpg\n",
      "Bad url: /images/leadership/besworthy_square.jpg\n",
      "Bad url: /images/leadership/lfischer_square.jpg\n",
      "Bad url: /images/leadership/aflores_square.jpg\n",
      "Bad url: /images/leadership/dlevin_square.jpg\n",
      "Bad url: /images/leadership/srosen_square.jpg\n",
      "Bad url: /images/leadership/asmith_square.jpg\n",
      "Bad url: /images/leadership/msteinberg_square.jpg\n",
      "Bad url: /images/leadership/asweeney_square.jpg\n",
      "Bad url: /images/leadership/mcollins_square.jpg\n",
      "Bad url: /images/leadership/ghart_square.jpg\n",
      "Bad url: /images/leadership/nlatto_square.jpg\n",
      "Bad url: /images/leadership/jsaal_square.jpg\n",
      "Bad url: /images/leadership/nbaartz_square.jpg\n",
      "Bad url: /images/leadership/cbradley_square.jpg\n",
      "Bad url: /images/leadership/cbrewton_square.jpg\n",
      "Bad url: /images/leadership/bcane_square.jpg\n",
      "Bad url: /images/leadership/scox_square.jpg\n",
      "Bad url: /images/leadership/sforoutan_square.jpg\n",
      "Bad url: /images/leadership/dringerross_square.jpg\n",
      "Bad url: /images/leadership/tverlinde_square.jpg\n",
      "Bad url: /images/leadership/mhunter_square.jpg\n",
      "Bad url: /images/leadership/wmalloy_square.jpg\n",
      "Bad url: /images/leadership/bmorrow_square.jpg\n",
      "Bad url: /images/leadership/dchadwick_square.jpg\n",
      "Bad url: /images/leadership/jmercado_square.jpg\n",
      "Bad url: /images/leadership/lroberts_square.jpg\n"
     ]
    }
   ],
   "source": [
    "target_url = \"https://www.bmi.com/about/leadership\"\n",
    "company = \"bmi\"\n",
    "\n",
    "image_scraper(target_url, company)"
   ]
  },
  {
   "cell_type": "markdown",
   "metadata": {},
   "source": [
    "<a id=wrangle></a>\n",
    "## Wrangle Data"
   ]
  },
  {
   "cell_type": "markdown",
   "metadata": {},
   "source": [
    "### To Do:\n",
    "1. Edit the image display with PIL"
   ]
  },
  {
   "cell_type": "code",
   "execution_count": null,
   "metadata": {},
   "outputs": [],
   "source": []
  },
  {
   "cell_type": "markdown",
   "metadata": {},
   "source": [
    "<a id=eda></a>\n",
    "## EDA"
   ]
  },
  {
   "cell_type": "code",
   "execution_count": null,
   "metadata": {},
   "outputs": [],
   "source": []
  },
  {
   "cell_type": "markdown",
   "metadata": {},
   "source": [
    "<a id=process></a>\n",
    "## Process Data"
   ]
  },
  {
   "cell_type": "code",
   "execution_count": null,
   "metadata": {},
   "outputs": [],
   "source": []
  },
  {
   "cell_type": "markdown",
   "metadata": {},
   "source": [
    "<a id=export></a>\n",
    "## Export Data"
   ]
  },
  {
   "cell_type": "code",
   "execution_count": null,
   "metadata": {},
   "outputs": [],
   "source": []
  },
  {
   "cell_type": "code",
   "execution_count": null,
   "metadata": {},
   "outputs": [],
   "source": []
  },
  {
   "cell_type": "code",
   "execution_count": null,
   "metadata": {},
   "outputs": [],
   "source": []
  },
  {
   "cell_type": "code",
   "execution_count": null,
   "metadata": {},
   "outputs": [],
   "source": []
  },
  {
   "cell_type": "code",
   "execution_count": null,
   "metadata": {},
   "outputs": [],
   "source": []
  },
  {
   "cell_type": "code",
   "execution_count": null,
   "metadata": {},
   "outputs": [],
   "source": []
  }
 ],
 "metadata": {
  "kernelspec": {
   "display_name": "Python 3",
   "language": "python",
   "name": "python3"
  },
  "language_info": {
   "codemirror_mode": {
    "name": "ipython",
    "version": 3
   },
   "file_extension": ".py",
   "mimetype": "text/x-python",
   "name": "python",
   "nbconvert_exporter": "python",
   "pygments_lexer": "ipython3",
   "version": "3.8.3"
  }
 },
 "nbformat": 4,
 "nbformat_minor": 4
}
