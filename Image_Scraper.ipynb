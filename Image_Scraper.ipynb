{
 "cells": [
  {
   "cell_type": "markdown",
   "metadata": {},
   "source": [
    "# Image Scraper\n",
    "\n",
    "### Description\n",
    "A web scraping utility used to get album covers and record label board pics.\n",
    "\n",
    "#### Rough Workflow\n",
    "* Target URL\n",
    "* HTML Preview to find specific ID and class identifiers\n",
    "* BS4 search by identifiers\n",
    "* Batch labeling and saving in specified directory\n",
    "\n",
    "### Sections\n",
    "1. <a href=#data>Ingest Data</a>\n",
    "2. <a href=#wrangle>Wrangle Data</a>\n",
    "3. <a href=#eda>EDA</a>\n",
    "4. <a href=#process>Process Data</a>\n",
    "5. <a href=#export>Export Data</a>"
   ]
  },
  {
   "cell_type": "markdown",
   "metadata": {},
   "source": [
    "<a id=data></a>\n",
    "## Ingest Data"
   ]
  },
  {
   "cell_type": "code",
   "execution_count": 3,
   "metadata": {},
   "outputs": [],
   "source": [
    "# Import libraries\n",
    "import requests, bs4, re, os, shutil"
   ]
  },
  {
   "cell_type": "code",
   "execution_count": 4,
   "metadata": {},
   "outputs": [],
   "source": [
    "# Declare data directories\n",
    "company = \"bmi\"\n",
    "cache_dir = os.path.join(\"data\", \"img\", company)  # where to store cache files\n",
    "os.makedirs(cache_dir, exist_ok=True)  # ensure cache directory exists\n"
   ]
  },
  {
   "cell_type": "code",
   "execution_count": 5,
   "metadata": {},
   "outputs": [],
   "source": [
    "# Declare search URL\n",
    "\n",
    "rootURL = \"https://www.bmi.com/about/leadership\"\n",
    "\n",
    "# Save root URL HTML data into bs4 object\n",
    "rootURL_data = requests.get(rootURL)\n",
    "rootURL_soup = bs4.BeautifulSoup(rootURL_data.text)"
   ]
  },
  {
   "cell_type": "code",
   "execution_count": 6,
   "metadata": {},
   "outputs": [],
   "source": [
    "page_imgs = rootURL_soup.select('img')"
   ]
  },
  {
   "cell_type": "code",
   "execution_count": null,
   "metadata": {},
   "outputs": [],
   "source": [
    "img_list = []\n",
    "for img in page_imgs:\n",
    "    img_str = str(img)\n",
    "    url = re.search(\"src=\\\"([^\\n\\r]*)\\\"\", img_str)\n",
    "    img_list.append(url[1])"
   ]
  },
  {
   "cell_type": "code",
   "execution_count": 8,
   "metadata": {},
   "outputs": [
    {
     "data": {
      "text/plain": [
       "['/frontend/images/logo.png',\n",
       " '/frontend/images/divider.jpg',\n",
       " '/frontend/images/divider.jpg',\n",
       " '/frontend/images/divider.jpg',\n",
       " '/frontend/images/divider.jpg',\n",
       " '/frontend/images/divider.jpg',\n",
       " '/frontend/images/divider.jpg',\n",
       " '/frontend/images/divider.jpg',\n",
       " '/frontend/images/divider.jpg',\n",
       " '/frontend/images/divider.jpg',\n",
       " '/frontend/images/divider.jpg',\n",
       " '/frontend/images/divider.jpg',\n",
       " '/frontend/images/divider.jpg',\n",
       " '/frontend/images/divider.jpg',\n",
       " '/frontend/images/divider.jpg',\n",
       " '/frontend/images/divider.jpg',\n",
       " '/frontend/images/divider.jpg',\n",
       " '/frontend/images/divider.jpg',\n",
       " '/frontend/images/divider.jpg',\n",
       " '/frontend/images/divider.jpg',\n",
       " '/frontend/images/divider.jpg',\n",
       " '/frontend/images/divider.jpg',\n",
       " '/frontend/images/divider.jpg',\n",
       " '/frontend/images/divider.jpg',\n",
       " '/images/leadership/moneill_square.jpg',\n",
       " '/images/leadership/besworthy_square.jpg',\n",
       " '/images/leadership/lfischer_square.jpg',\n",
       " '/images/leadership/aflores_square.jpg',\n",
       " '/images/leadership/dlevin_square.jpg',\n",
       " '/images/leadership/srosen_square.jpg',\n",
       " '/images/leadership/asmith_square.jpg',\n",
       " '/images/leadership/msteinberg_square.jpg',\n",
       " '/images/leadership/asweeney_square.jpg',\n",
       " '/images/leadership/mcollins_square.jpg',\n",
       " '/images/leadership/ghart_square.jpg',\n",
       " '/images/leadership/nlatto_square.jpg',\n",
       " '/images/leadership/jsaal_square.jpg',\n",
       " '/images/leadership/nbaartz_square.jpg',\n",
       " '/images/leadership/cbradley_square.jpg',\n",
       " '/images/leadership/cbrewton_square.jpg',\n",
       " '/images/leadership/bcane_square.jpg',\n",
       " '/images/leadership/scox_square.jpg',\n",
       " '/images/leadership/sforoutan_square.jpg',\n",
       " '/images/leadership/dringerross_square.jpg',\n",
       " '/images/leadership/tverlinde_square.jpg',\n",
       " '/images/leadership/mhunter_square.jpg',\n",
       " '/images/leadership/wmalloy_square.jpg',\n",
       " '/images/leadership/bmorrow_square.jpg',\n",
       " '/images/leadership/dchadwick_square.jpg',\n",
       " '/images/leadership/jmercado_square.jpg',\n",
       " '/images/leadership/lroberts_square.jpg']"
      ]
     },
     "execution_count": 8,
     "metadata": {},
     "output_type": "execute_result"
    }
   ],
   "source": [
    "img_list"
   ]
  },
  {
   "cell_type": "code",
   "execution_count": 10,
   "metadata": {},
   "outputs": [
    {
     "name": "stdout",
     "output_type": "stream",
     "text": [
      "Image sucessfully Downloaded:  0.png\n",
      "Image sucessfully Downloaded:  1.jpg\n",
      "Image sucessfully Downloaded:  2.jpg\n",
      "Image sucessfully Downloaded:  3.jpg\n",
      "Image sucessfully Downloaded:  4.jpg\n",
      "Image sucessfully Downloaded:  5.jpg\n",
      "Image sucessfully Downloaded:  6.jpg\n",
      "Image sucessfully Downloaded:  7.jpg\n",
      "Image sucessfully Downloaded:  8.jpg\n",
      "Image sucessfully Downloaded:  9.jpg\n",
      "Image sucessfully Downloaded:  10.jpg\n",
      "Image sucessfully Downloaded:  11.jpg\n",
      "Image sucessfully Downloaded:  12.jpg\n",
      "Image sucessfully Downloaded:  13.jpg\n",
      "Image sucessfully Downloaded:  14.jpg\n",
      "Image sucessfully Downloaded:  15.jpg\n",
      "Image sucessfully Downloaded:  16.jpg\n",
      "Image sucessfully Downloaded:  17.jpg\n",
      "Image sucessfully Downloaded:  18.jpg\n",
      "Image sucessfully Downloaded:  19.jpg\n",
      "Image sucessfully Downloaded:  20.jpg\n",
      "Image sucessfully Downloaded:  21.jpg\n",
      "Image sucessfully Downloaded:  22.jpg\n",
      "Image sucessfully Downloaded:  23.jpg\n",
      "Image sucessfully Downloaded:  24.jpg\n",
      "Image sucessfully Downloaded:  25.jpg\n",
      "Image sucessfully Downloaded:  26.jpg\n",
      "Image sucessfully Downloaded:  27.jpg\n",
      "Image sucessfully Downloaded:  28.jpg\n",
      "Image sucessfully Downloaded:  29.jpg\n",
      "Image sucessfully Downloaded:  30.jpg\n",
      "Image sucessfully Downloaded:  31.jpg\n",
      "Image sucessfully Downloaded:  32.jpg\n",
      "Image sucessfully Downloaded:  33.jpg\n",
      "Image sucessfully Downloaded:  34.jpg\n",
      "Image sucessfully Downloaded:  35.jpg\n",
      "Image sucessfully Downloaded:  36.jpg\n",
      "Image sucessfully Downloaded:  37.jpg\n",
      "Image sucessfully Downloaded:  38.jpg\n",
      "Image sucessfully Downloaded:  39.jpg\n",
      "Image sucessfully Downloaded:  40.jpg\n",
      "Image sucessfully Downloaded:  41.jpg\n",
      "Image sucessfully Downloaded:  42.jpg\n",
      "Image sucessfully Downloaded:  43.jpg\n",
      "Image sucessfully Downloaded:  44.jpg\n",
      "Image sucessfully Downloaded:  45.jpg\n",
      "Image sucessfully Downloaded:  46.jpg\n",
      "Image sucessfully Downloaded:  47.jpg\n",
      "Image sucessfully Downloaded:  48.jpg\n",
      "Image sucessfully Downloaded:  49.jpg\n",
      "Image sucessfully Downloaded:  50.jpg\n"
     ]
    }
   ],
   "source": [
    "for i in range(len(img_list)):\n",
    "## Set up the image URL and filename\n",
    "    image_url = r'https://bmi.com' + img_list[i]\n",
    "    image_format = image_url.split('.')[-1]\n",
    "    filename = str(i)+'.'+image_format\n",
    "    \n",
    "    #https://www.bmi.com/images/leadership/lroberts_square.jpg\n",
    "\n",
    "    try:\n",
    "        # Open the url image, set stream to True, this will return the stream content.\n",
    "        r = requests.get(image_url, stream = True)\n",
    "\n",
    "        # Check if the image was retrieved successfully\n",
    "        if r.status_code == 200:\n",
    "            # Set decode_content value to True, otherwise the downloaded image file's size will be zero.\n",
    "            r.raw.decode_content = True\n",
    "\n",
    "            # Open a local file with wb ( write binary ) permission.\n",
    "            with open(os.path.join(cache_dir, filename),'wb') as f:\n",
    "                shutil.copyfileobj(r.raw, f)\n",
    "            print('Image sucessfully Downloaded: ',filename)\n",
    "        else:\n",
    "            print('Image Couldn\\'t be retreived')\n",
    "    except:\n",
    "        print('Bad url: ' + image_url)"
   ]
  },
  {
   "cell_type": "markdown",
   "metadata": {},
   "source": [
    "## To Do:\n",
    "1. Edit the image display with PIL\n",
    "2. Refactor to make this a custom utility class"
   ]
  },
  {
   "cell_type": "code",
   "execution_count": null,
   "metadata": {},
   "outputs": [],
   "source": []
  },
  {
   "cell_type": "code",
   "execution_count": null,
   "metadata": {},
   "outputs": [],
   "source": []
  },
  {
   "cell_type": "markdown",
   "metadata": {},
   "source": [
    "<a id=wrangle></a>\n",
    "## Wrangle Data"
   ]
  },
  {
   "cell_type": "code",
   "execution_count": null,
   "metadata": {},
   "outputs": [],
   "source": []
  },
  {
   "cell_type": "markdown",
   "metadata": {},
   "source": [
    "<a id=eda></a>\n",
    "## EDA"
   ]
  },
  {
   "cell_type": "code",
   "execution_count": null,
   "metadata": {},
   "outputs": [],
   "source": []
  },
  {
   "cell_type": "markdown",
   "metadata": {},
   "source": [
    "<a id=process></a>\n",
    "## Process Data"
   ]
  },
  {
   "cell_type": "code",
   "execution_count": null,
   "metadata": {},
   "outputs": [],
   "source": []
  },
  {
   "cell_type": "markdown",
   "metadata": {},
   "source": [
    "<a id=export></a>\n",
    "## Export Data"
   ]
  },
  {
   "cell_type": "code",
   "execution_count": null,
   "metadata": {},
   "outputs": [],
   "source": []
  },
  {
   "cell_type": "code",
   "execution_count": null,
   "metadata": {},
   "outputs": [],
   "source": []
  },
  {
   "cell_type": "code",
   "execution_count": null,
   "metadata": {},
   "outputs": [],
   "source": []
  },
  {
   "cell_type": "code",
   "execution_count": null,
   "metadata": {},
   "outputs": [],
   "source": []
  },
  {
   "cell_type": "code",
   "execution_count": null,
   "metadata": {},
   "outputs": [],
   "source": []
  },
  {
   "cell_type": "code",
   "execution_count": null,
   "metadata": {},
   "outputs": [],
   "source": []
  }
 ],
 "metadata": {
  "kernelspec": {
   "display_name": "Python 3",
   "language": "python",
   "name": "python3"
  },
  "language_info": {
   "codemirror_mode": {
    "name": "ipython",
    "version": 3
   },
   "file_extension": ".py",
   "mimetype": "text/x-python",
   "name": "python",
   "nbconvert_exporter": "python",
   "pygments_lexer": "ipython3",
   "version": "3.8.3"
  }
 },
 "nbformat": 4,
 "nbformat_minor": 4
}
