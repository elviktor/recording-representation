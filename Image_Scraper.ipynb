{
 "cells": [
  {
   "cell_type": "markdown",
   "metadata": {},
   "source": [
    "# Image Scraper\n",
    "\n",
    "### Description\n",
    "A web scraping utility used to get album covers and record label board pics.\n",
    "\n",
    "#### Rough Workflow\n",
    "* Target URL\n",
    "* HTML Preview to find specific ID and class identifiers\n",
    "* BS4 search by identifiers\n",
    "* Batch labeling and saving in specified directory\n",
    "\n",
    "### Sections\n",
    "1. <a href=#data>Ingest Data</a>\n",
    "2. <a href=#wrangle>Wrangle Data</a>\n",
    "3. <a href=#eda>EDA</a>\n",
    "4. <a href=#process>Process Data</a>\n",
    "5. <a href=#export>Export Data</a>"
   ]
  },
  {
   "cell_type": "markdown",
   "metadata": {},
   "source": [
    "<a id=data></a>\n",
    "## Ingest Data"
   ]
  },
  {
   "cell_type": "code",
   "execution_count": 1,
   "metadata": {},
   "outputs": [],
   "source": [
    "# Import libraries\n",
    "import requests, bs4, re, os, shutil\n",
    "import pandas as pd\n",
    "import numpy as np\n",
    "# Importing Image module from PIL package  \n",
    "from PIL import Image  \n",
    "import PIL  "
   ]
  },
  {
   "cell_type": "code",
   "execution_count": 2,
   "metadata": {},
   "outputs": [],
   "source": [
    "# Declare data directories\n",
    "company = \"sony\"\n",
    "cache_dir = os.path.join(\"data\", \"img\", company)  # where to store cache files\n",
    "os.makedirs(cache_dir, exist_ok=True)  # ensure cache directory exists\n"
   ]
  },
  {
   "cell_type": "code",
   "execution_count": 3,
   "metadata": {},
   "outputs": [],
   "source": [
    "# Declare search URL\n",
    "\n",
    "rootURL = \"https://www.sonymusic.com/executives/\"\n",
    "\n",
    "# Save root URL HTML data into bs4 object\n",
    "rootURL_data = requests.get(rootURL)\n",
    "rootURL_soup = bs4.BeautifulSoup(rootURL_data.text)"
   ]
  },
  {
   "cell_type": "code",
   "execution_count": 4,
   "metadata": {},
   "outputs": [],
   "source": [
    "page_imgs = rootURL_soup.select('img')"
   ]
  },
  {
   "cell_type": "code",
   "execution_count": 5,
   "metadata": {},
   "outputs": [],
   "source": [
    "img_list = []\n",
    "for img in page_imgs:\n",
    "    img_str = str(img)\n",
    "    url = re.search(\"src=\\\"([^\\n\\r]*)\\\"\", img_str)\n",
    "    img_list.append(url[1])"
   ]
  },
  {
   "cell_type": "code",
   "execution_count": 6,
   "metadata": {},
   "outputs": [
    {
     "name": "stdout",
     "output_type": "stream",
     "text": [
      "Image sucessfully Downloaded:  0.jpg\n",
      "Image sucessfully Downloaded:  1.jpg\n",
      "Image sucessfully Downloaded:  2.jpg\n",
      "Image sucessfully Downloaded:  3.jpg\n",
      "Image sucessfully Downloaded:  4.jpg\n",
      "Image sucessfully Downloaded:  5.jpg\n",
      "Image sucessfully Downloaded:  6.jpg\n",
      "Image sucessfully Downloaded:  7.jpg\n",
      "Image sucessfully Downloaded:  8.jpg\n",
      "Image sucessfully Downloaded:  9.jpg\n",
      "Image sucessfully Downloaded:  10.jpg\n",
      "Image sucessfully Downloaded:  11.jpg\n",
      "Image sucessfully Downloaded:  12.jpg\n",
      "Image sucessfully Downloaded:  13.jpg\n",
      "Bad url: //img.youtube.com/vi/9NZvM1918_E/hqdefault.jpg\" width=\"310px\n",
      "Image sucessfully Downloaded:  15.png\n",
      "Image sucessfully Downloaded:  16.png\n",
      "Image sucessfully Downloaded:  17.png\n"
     ]
    }
   ],
   "source": [
    "for i in range(len(img_list)):\n",
    "## Set up the image URL and filename\n",
    "    image_url = img_list[i]\n",
    "    image_format = image_url.split('.')[-1]\n",
    "    filename = str(i)+'.'+image_format\n",
    "\n",
    "    try:\n",
    "        # Open the url image, set stream to True, this will return the stream content.\n",
    "        r = requests.get(image_url, stream = True)\n",
    "\n",
    "        # Check if the image was retrieved successfully\n",
    "        if r.status_code == 200:\n",
    "            # Set decode_content value to True, otherwise the downloaded image file's size will be zero.\n",
    "            r.raw.decode_content = True\n",
    "\n",
    "            # Open a local file with wb ( write binary ) permission.\n",
    "            with open(os.path.join(cache_dir, filename),'wb') as f:\n",
    "                shutil.copyfileobj(r.raw, f)\n",
    "            print('Image sucessfully Downloaded: ',filename)\n",
    "        else:\n",
    "            print('Image Couldn\\'t be retreived')\n",
    "    except:\n",
    "        print('Bad url: ' + image_url)"
   ]
  },
  {
   "cell_type": "markdown",
   "metadata": {},
   "source": [
    "## To Do:\n",
    "1. Edit the image display with PIL\n",
    "2. Refactor to make this a custom utility class"
   ]
  },
  {
   "cell_type": "code",
   "execution_count": null,
   "metadata": {},
   "outputs": [],
   "source": []
  },
  {
   "cell_type": "code",
   "execution_count": null,
   "metadata": {},
   "outputs": [],
   "source": []
  },
  {
   "cell_type": "markdown",
   "metadata": {},
   "source": [
    "<a id=wrangle></a>\n",
    "## Wrangle Data"
   ]
  },
  {
   "cell_type": "code",
   "execution_count": null,
   "metadata": {},
   "outputs": [],
   "source": []
  },
  {
   "cell_type": "markdown",
   "metadata": {},
   "source": [
    "<a id=eda></a>\n",
    "## EDA"
   ]
  },
  {
   "cell_type": "code",
   "execution_count": null,
   "metadata": {},
   "outputs": [],
   "source": []
  },
  {
   "cell_type": "markdown",
   "metadata": {},
   "source": [
    "<a id=process></a>\n",
    "## Process Data"
   ]
  },
  {
   "cell_type": "code",
   "execution_count": null,
   "metadata": {},
   "outputs": [],
   "source": []
  },
  {
   "cell_type": "markdown",
   "metadata": {},
   "source": [
    "<a id=export></a>\n",
    "## Export Data"
   ]
  },
  {
   "cell_type": "code",
   "execution_count": null,
   "metadata": {},
   "outputs": [],
   "source": []
  },
  {
   "cell_type": "code",
   "execution_count": null,
   "metadata": {},
   "outputs": [],
   "source": []
  },
  {
   "cell_type": "code",
   "execution_count": null,
   "metadata": {},
   "outputs": [],
   "source": []
  },
  {
   "cell_type": "code",
   "execution_count": null,
   "metadata": {},
   "outputs": [],
   "source": []
  },
  {
   "cell_type": "code",
   "execution_count": null,
   "metadata": {},
   "outputs": [],
   "source": []
  },
  {
   "cell_type": "code",
   "execution_count": null,
   "metadata": {},
   "outputs": [],
   "source": []
  }
 ],
 "metadata": {
  "kernelspec": {
   "display_name": "Python 3",
   "language": "python",
   "name": "python3"
  },
  "language_info": {
   "codemirror_mode": {
    "name": "ipython",
    "version": 3
   },
   "file_extension": ".py",
   "mimetype": "text/x-python",
   "name": "python",
   "nbconvert_exporter": "python",
   "pygments_lexer": "ipython3",
   "version": "3.8.3"
  }
 },
 "nbformat": 4,
 "nbformat_minor": 4
}
